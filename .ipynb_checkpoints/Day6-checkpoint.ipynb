{
 "cells": [
  {
   "cell_type": "markdown",
   "metadata": {},
   "source": [
    "## Day 6"
   ]
  },
  {
   "cell_type": "markdown",
   "metadata": {},
   "source": [
    "### Probably a Fire Hazard"
   ]
  },
  {
   "cell_type": "markdown",
   "metadata": {},
   "source": [
    "Because your neighbors keep defeating you in the holiday house decorating contest year after year, you've decided to deploy one million lights in a 1000x1000 grid. Furthermore, because you've been especially nice this year, Santa has mailed you instructions on how to display the ideal lighting configuration.\n",
    "\n",
    "\n",
    "Lights in your grid are numbered from 0 to 999 in each direction; the lights at each corner are at 0,0, 0,999, 999,999, and 999,0. The instructions include whether to turn on, turn off, or toggle various inclusive ranges given as coordinate pairs. Each coordinate pair represents opposite corners of a rectangle, inclusive; a coordinate pair like 0,0 through 2,2 therefore refers to 9 lights in a 3x3 square. The lights all start turned off. \n",
    "\n",
    "\n",
    "To defeat your neighbors this year, all you have to do is set up your lights by doing the instructions Santa sent you in order.\n",
    "\n",
    "For example:\n",
    "  - turn on 0,0 through 999,999 would turn on (or leave on) every light.\n",
    "  - toggle 0,0 through 999,0 would toggle the first line of 1000 lights, turning off the ones that were on, and turning on the ones that were off.\n",
    "  - turn off 499,499 through 500,500 would turn off (or leave off) the middle four lights.\n",
    "\n",
    "After following the instructions, how many lights are lit?\n"
   ]
  },
  {
   "cell_type": "code",
   "execution_count": 5,
   "metadata": {
    "collapsed": true
   },
   "outputs": [],
   "source": [
    "with open(\"input6.txt\") as f:\n",
    "    data = f.read()\n",
    "lines = data.splitlines()"
   ]
  },
  {
   "cell_type": "code",
   "execution_count": 6,
   "metadata": {
    "collapsed": false
   },
   "outputs": [],
   "source": [
    "# create 1,000,000 tuples from (0,0) to (999,999)\n",
    "from itertools import product\n",
    "pairs = product(range(1000),range(1000))\n",
    "\n",
    "# create dictionary using tuples as keys and set all values to False\n",
    "grid = {pair:False for pair in pairs}"
   ]
  },
  {
   "cell_type": "code",
   "execution_count": 7,
   "metadata": {
    "collapsed": true
   },
   "outputs": [],
   "source": [
    "for line in lines:\n",
    "    # separate into words\n",
    "    line_list = line.split()\n",
    "    \n",
    "    if line_list[0] == \"toggle\":\n",
    "        # assign range from line to x1,y1,x2,y2\n",
    "        x1 = int(line_list[1].split(',')[0])\n",
    "        y1 = int(line_list[1].split(',')[1])\n",
    "        x2 = int(line_list[3].split(',')[0])\n",
    "        y2 = int(line_list[3].split(',')[1])\n",
    "        \n",
    "        # change values for keys where x1 <= x <= x2 AND y1 <= y <= y2\n",
    "        for item in grid:\n",
    "                if item[0] <= x2 and item[0] >= x1 and item[1] <= y2 and item[1] >= y1:\n",
    "                    if grid[item] == True:\n",
    "                        grid[item] = False\n",
    "                    else:\n",
    "                        grid[item] = True\n",
    "        \n",
    "    else:\n",
    "        # assign range from line to x1,y1,x2,y2\n",
    "        x1 = int(line_list[2].split(',')[0])\n",
    "        y1 = int(line_list[2].split(',')[1])\n",
    "        x2 = int(line_list[4].split(',')[0])\n",
    "        y2 = int(line_list[4].split(',')[1])\n",
    "    \n",
    "        if line_list[1] == \"on\":\n",
    "            # value == True for keys where x1 <= x <= x2 AND y1 <= y <= y2\n",
    "            for item in grid:\n",
    "                if item[0] <= x2 and item[0] >= x1 and item[1] <= y2 and item[1] >= y1:\n",
    "                    grid[item] = True\n",
    "        \n",
    "        elif line_list[1] == \"off\":\n",
    "            # value == False for keys where x1 <= x <= x2 AND y1 <= y <= y2\n",
    "            for item in grid:\n",
    "                if item[0] <= x2 and item[0] >= x1 and item[1] <= y2 and item[1] >= y1:\n",
    "                    grid[item] = False\n",
    "            "
   ]
  },
  {
   "cell_type": "code",
   "execution_count": 9,
   "metadata": {
    "collapsed": false
   },
   "outputs": [
    {
     "data": {
      "text/plain": [
       "543903"
      ]
     },
     "execution_count": 9,
     "metadata": {},
     "output_type": "execute_result"
    }
   ],
   "source": [
    "# count grid values which are True\n",
    "sum(grid.values())"
   ]
  },
  {
   "cell_type": "markdown",
   "metadata": {
    "collapsed": true
   },
   "source": [
    "You just finish implementing your winning light pattern when you realize you mistranslated Santa's message from Ancient Nordic Elvish.\n",
    "\n",
    "The light grid you bought actually has individual brightness controls; each light can have a brightness of zero or more. The lights all start at zero.\n",
    "\n",
    "The phrase turn on actually means that you should increase the brightness of those lights by 1.\n",
    "\n",
    "The phrase turn off actually means that you should decrease the brightness of those lights by 1, to a minimum of zero.\n",
    "\n",
    "The phrase toggle actually means that you should increase the brightness of those lights by 2.\n",
    "\n",
    "What is the total brightness of all lights combined after following Santa's instructions?\n",
    "\n",
    "For example:\n",
    "  - turn on 0,0 through 0,0 would increase the total brightness by 1.\n",
    "  - toggle 0,0 through 999,999 would increase the total brightness by 2,000,000.\n"
   ]
  },
  {
   "cell_type": "code",
   "execution_count": 10,
   "metadata": {
    "collapsed": true
   },
   "outputs": [],
   "source": [
    "# create empty grid with values of 0 instead of False\n",
    "pairs = product(range(1000),range(1000))\n",
    "grid = {pair:0 for pair in pairs}"
   ]
  },
  {
   "cell_type": "code",
   "execution_count": 17,
   "metadata": {
    "collapsed": true
   },
   "outputs": [],
   "source": [
    "for line in lines:\n",
    "    # separate into words\n",
    "    line_list = line.split()\n",
    "    \n",
    "    if line_list[0] == \"toggle\":\n",
    "        # assign range from line to x1,y1,x2,y2\n",
    "        x1 = int(line_list[1].split(',')[0])\n",
    "        y1 = int(line_list[1].split(',')[1])\n",
    "        x2 = int(line_list[3].split(',')[0])\n",
    "        y2 = int(line_list[3].split(',')[1])\n",
    "        \n",
    "        # increase value by 2 for keys where x1 <= x <= x2 AND y1 <= y <= y2\n",
    "        for item in grid:\n",
    "                if item[0] <= x2 and item[0] >= x1 and item[1] <= y2 and item[1] >= y1:\n",
    "                    grid[item] += 2\n",
    "                            \n",
    "    else:\n",
    "        # assign range from line to x1,y1,x2,y2\n",
    "        x1 = int(line_list[2].split(',')[0])\n",
    "        y1 = int(line_list[2].split(',')[1])\n",
    "        x2 = int(line_list[4].split(',')[0])\n",
    "        y2 = int(line_list[4].split(',')[1])\n",
    "    \n",
    "        if line_list[1] == \"on\":\n",
    "            # increase value by 1 for keys where x1 <= x <= x2 AND y1 <= y <= y2\n",
    "            for item in grid:\n",
    "                if item[0] <= x2 and item[0] >= x1 and item[1] <= y2 and item[1] >= y1:\n",
    "                    grid[item] += 1\n",
    "        \n",
    "        elif line_list[1] == \"off\":\n",
    "            # decrease value by 1 for keys where x1 <= x <= x2 AND y1 <= y <= y2\n",
    "            for item in grid:\n",
    "                if item[0] <= x2 and item[0] >= x1 and item[1] <= y2 and item[1] >= y1:\n",
    "                    grid[item] -= 1\n",
    "                    if item < 0:\n",
    "                        grid[item] == 0"
   ]
  },
  {
   "cell_type": "code",
   "execution_count": 19,
   "metadata": {
    "collapsed": false
   },
   "outputs": [
    {
     "data": {
      "text/plain": [
       "42572790"
      ]
     },
     "execution_count": 19,
     "metadata": {},
     "output_type": "execute_result"
    }
   ],
   "source": [
    "sum(grid.values())"
   ]
  }
 ],
 "metadata": {
  "anaconda-cloud": {},
  "kernelspec": {
   "display_name": "Python [Root]",
   "language": "python",
   "name": "Python [Root]"
  },
  "language_info": {
   "codemirror_mode": {
    "name": "ipython",
    "version": 2
   },
   "file_extension": ".py",
   "mimetype": "text/x-python",
   "name": "python",
   "nbconvert_exporter": "python",
   "pygments_lexer": "ipython2",
   "version": "2.7.12"
  }
 },
 "nbformat": 4,
 "nbformat_minor": 0
}
