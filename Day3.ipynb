{
 "cells": [
  {
   "cell_type": "markdown",
   "metadata": {},
   "source": [
    "## Day 3"
   ]
  },
  {
   "cell_type": "markdown",
   "metadata": {},
   "source": [
    "Santa is delivering presents to an infinite two-dimensional grid of houses.\n",
    "\n",
    "\n",
    "He begins by delivering a present to the house at his starting location, and then an elf at the North Pole calls him via radio and tells him where to move next. Moves are always exactly one house to the north (^), south (v), east (>), or west (<). After each move, he delivers another present to the house at his new location.\n",
    "\n",
    "\n",
    "However, the elf back at the north pole has had a little too much eggnog, and so his directions are a little off, and Santa ends up visiting some houses more than once. How many houses receive at least one present?"
   ]
  },
  {
   "cell_type": "code",
   "execution_count": null,
   "metadata": {
    "collapsed": true
   },
   "outputs": [],
   "source": [
    "# Use coordinate system (x,y) ---- tuples are immutable objects, when would you ever use these?\n",
    "# start with (0,0)\n",
    "# east will increase x\n",
    "# west will decrease x\n",
    "# north will increase y\n",
    "# south will decrease y\n",
    "# count unique coordinate values to see how many houses (need to store them somewhere)"
   ]
  },
  {
   "cell_type": "code",
   "execution_count": 1,
   "metadata": {
    "collapsed": true
   },
   "outputs": [],
   "source": [
    "with open('input3.txt', 'r') as myfile:\n",
    "    data=myfile.read().replace('\\n', '')"
   ]
  },
  {
   "cell_type": "code",
   "execution_count": 14,
   "metadata": {
    "collapsed": true
   },
   "outputs": [],
   "source": [
    "x = 0\n",
    "y = 0\n",
    "x_coord = [0] # list of only x coordinates; contains 0 already to count the first house\n",
    "y_coord = [0] # list of only y coordinates\n",
    "\n",
    "# i is the character in input\n",
    "# change values of x and y based on i\n",
    "# append x and y to their respective lists for each i\n",
    "\n",
    "for i in range(len(data)):\n",
    "    if data[i] == '>':\n",
    "        x += 1\n",
    "    elif data[i] == '<':\n",
    "        x -= 1\n",
    "    elif data[i] == '^':\n",
    "        y += 1\n",
    "    elif data[i] == 'v':\n",
    "        y -= 1\n",
    "    x_coord.append(x)\n",
    "    y_coord.append(y)"
   ]
  },
  {
   "cell_type": "code",
   "execution_count": 16,
   "metadata": {
    "collapsed": true
   },
   "outputs": [],
   "source": [
    "# combine x and y lists into coordinates\n",
    "zipped = zip(x_coord,y_coord)"
   ]
  },
  {
   "cell_type": "code",
   "execution_count": 19,
   "metadata": {
    "collapsed": true
   },
   "outputs": [],
   "source": [
    "# create a set to remove duplicates\n",
    "unique = set(zipped)"
   ]
  },
  {
   "cell_type": "code",
   "execution_count": 22,
   "metadata": {
    "collapsed": false
   },
   "outputs": [
    {
     "data": {
      "text/plain": [
       "2572"
      ]
     },
     "execution_count": 22,
     "metadata": {},
     "output_type": "execute_result"
    }
   ],
   "source": [
    "# count unique values that are left\n",
    "len(unique)"
   ]
  },
  {
   "cell_type": "markdown",
   "metadata": {},
   "source": [
    "The next year, to speed up the process, Santa creates a robot version of himself, Robo-Santa, to deliver presents with him.\n",
    "\n",
    "\n",
    "Santa and Robo-Santa start at the same location (delivering two presents to the same starting house), then take turns moving based on instructions from the elf, who is eggnoggedly reading from the same script as the previous year.\n",
    "\n",
    "\n",
    "This year, how many houses receive at least one present?"
   ]
  },
  {
   "cell_type": "code",
   "execution_count": null,
   "metadata": {
    "collapsed": true
   },
   "outputs": [],
   "source": [
    "# Adjust Santa's original instructions to only change the value of x and y if i is odd\n",
    "# Create second set of instructions that match Santa's but only for even values of i"
   ]
  },
  {
   "cell_type": "code",
   "execution_count": 2,
   "metadata": {
    "collapsed": true
   },
   "outputs": [],
   "source": [
    "x = 0 \n",
    "y = 0\n",
    "j = 0 # Robo\n",
    "k = 0 # Robo\n",
    "x_coord = [0]\n",
    "y_coord = [0]\n",
    "j_coord = [0] # Robo\n",
    "k_coord = [0] # Robo\n",
    "\n",
    "for i in range(len(data)):\n",
    "    if i%2 == 1: # odd characters\n",
    "        if data[i] == '>':\n",
    "            x += 1\n",
    "        elif data[i] == '<':\n",
    "            x -= 1\n",
    "        elif data[i] == '^':\n",
    "            y += 1\n",
    "        elif data[i] == 'v':\n",
    "            y -= 1\n",
    "    elif i%2 == 0: # even characters\n",
    "        if data[i] == '>':\n",
    "            j += 1\n",
    "        elif data[i] == '<':\n",
    "            j -= 1\n",
    "        elif data[i] == '^':\n",
    "            k += 1\n",
    "        elif data[i] == 'v':\n",
    "            k -= 1\n",
    "    x_coord.append(x)\n",
    "    y_coord.append(y)\n",
    "    j_coord.append(j)\n",
    "    k_coord.append(k)"
   ]
  },
  {
   "cell_type": "code",
   "execution_count": 3,
   "metadata": {
    "collapsed": true
   },
   "outputs": [],
   "source": [
    "Santa = zip(x_coord,y_coord)\n",
    "Robo = zip(j_coord,k_coord)"
   ]
  },
  {
   "cell_type": "code",
   "execution_count": 4,
   "metadata": {
    "collapsed": false
   },
   "outputs": [],
   "source": [
    "merged_list = Santa + Robo"
   ]
  },
  {
   "cell_type": "code",
   "execution_count": 5,
   "metadata": {
    "collapsed": false
   },
   "outputs": [
    {
     "data": {
      "text/plain": [
       "2631"
      ]
     },
     "execution_count": 5,
     "metadata": {},
     "output_type": "execute_result"
    }
   ],
   "source": [
    "len(set(merged_list))"
   ]
  }
 ],
 "metadata": {
  "anaconda-cloud": {},
  "kernelspec": {
   "display_name": "Python [Root]",
   "language": "python",
   "name": "Python [Root]"
  },
  "language_info": {
   "codemirror_mode": {
    "name": "ipython",
    "version": 2
   },
   "file_extension": ".py",
   "mimetype": "text/x-python",
   "name": "python",
   "nbconvert_exporter": "python",
   "pygments_lexer": "ipython2",
   "version": "2.7.12"
  }
 },
 "nbformat": 4,
 "nbformat_minor": 0
}
